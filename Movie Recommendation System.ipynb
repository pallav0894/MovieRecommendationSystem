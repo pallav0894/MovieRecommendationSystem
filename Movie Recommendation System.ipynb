{
 "cells": [
  {
   "cell_type": "markdown",
   "metadata": {},
   "source": [
    "# Movie Recommendation System"
   ]
  },
  {
   "cell_type": "code",
   "execution_count": 1,
   "metadata": {},
   "outputs": [],
   "source": [
    "%matplotlib inline\n",
    "import random\n",
    "import pandas as pd\n",
    "import numpy as np\n",
    "import matplotlib.pyplot as plt\n",
    "from ast import literal_eval\n",
    "from sklearn.feature_extraction.text import TfidfVectorizer, CountVectorizer\n",
    "from sklearn.metrics.pairwise import linear_kernel, cosine_similarity\n",
    "from surprise import Reader, Dataset, SVD, BaselineOnly, KNNBaseline, NMF\n",
    "from surprise.model_selection import cross_validate"
   ]
  },
  {
   "cell_type": "code",
   "execution_count": 2,
   "metadata": {},
   "outputs": [
    {
     "data": {
      "text/plain": [
       "(9638, 25)"
      ]
     },
     "execution_count": 2,
     "metadata": {},
     "output_type": "execute_result"
    }
   ],
   "source": [
    "# Pre-process\n",
    "md = pd. read_csv('data/movies_metadata.csv', low_memory=False)\n",
    "md['genres'] = md['genres'].fillna('[]').apply(literal_eval).apply(lambda x: [i['name'] for i in x] if isinstance(x, list) else [])\n",
    "md['year'] = pd.to_datetime(md['release_date'], errors='coerce').apply(lambda x: str(x).split('-')[0] if x != np.nan else np.nan)\n",
    "md.shape"
   ]
  },
  {
   "cell_type": "code",
   "execution_count": 3,
   "metadata": {},
   "outputs": [],
   "source": [
    "def recommendations(title, dataset, indices, sim_matrix):\n",
    "    i = indices[title]\n",
    "    scores = list(enumerate(sim_matrix[i]))\n",
    "    scores = sorted(scores, key=lambda x: x[1], reverse=True)[1:21]\n",
    "    movie_indices = list(map(lambda i: i[0], scores))\n",
    "    return dataset['title'].iloc[movie_indices]"
   ]
  },
  {
   "cell_type": "code",
   "execution_count": 4,
   "metadata": {},
   "outputs": [],
   "source": [
    "def improved_recommendations(title, dataset, indices, sim_matrix):\n",
    "    i = indices[title]\n",
    "    scores = list(enumerate(sim_matrix[i]))\n",
    "    scores = sorted(scores, key=lambda x: x[1], reverse=True)[1:21]\n",
    "    movie_indices = list(map(lambda i: i[0], scores))\n",
    "    movies = dataset.iloc[movie_indices][['title', 'vote_count', 'vote_average', 'year']]\n",
    "\n",
    "    # Now sort the movies based on their actual ratings\n",
    "    vote_count = movies[movies['vote_count'].notnull()]['vote_count'].astype('int')\n",
    "    vote_average = movies[movies['vote_average'].notnull()]['vote_average'].astype('int')\n",
    "    mean_vote = vote_average.mean()\n",
    "    min_vote = vote_count.quantile(0.60)\n",
    "    \n",
    "    # count candidates who have atleast 60% votes\n",
    "    candidate = movies[(movies['vote_count'] > min_vote) & (movies['vote_count'].notnull()) & (movies['vote_average'].notnull())][['title', 'year', 'vote_count', 'vote_average']]\n",
    "    candidate['vote_count'] = candidate['vote_count'].astype('int')\n",
    "    candidate['vote_average'] = candidate['vote_average'].astype('int')\n",
    "    \n",
    "    #calculate weighted rank\n",
    "    candidate['weighted_rank'] = candidate.apply(lambda x: (x['vote_count']/(x['vote_count']+min_vote) * x['vote_average']) + (min_vote/(min_vote+x['vote_count']) * mean_vote), axis=1)\n",
    "    candidate = candidate.sort_values('weighted_rank', ascending=False).head(10)\n",
    "    \n",
    "    return candidate"
   ]
  },
  {
   "cell_type": "markdown",
   "metadata": {},
   "source": [
    "### 1. Simple Recommender\n",
    "The Simple Recommender offers generalized recommnendations to every user based on movie popularity and genre. The basic idea behind this recommender is that movies that are more popular and more critically acclaimed will have a higher probability of being liked by the average audience. This model does not give personalized recommendations based on the user."
   ]
  },
  {
   "cell_type": "markdown",
   "metadata": {},
   "source": [
    "We use the TMDB Ratings to come up with our Top Movies Chart. We will use IMDB's weighted rating formula to construct our chart.\n",
    "\n",
    "The next step is to determine an appropriate value for m, the minimum votes required to be listed in the chart. We will use 85th percentile as our cutoff. In other words, for a movie to feature in the charts, it must have more votes than at least 85% of the movies in the list.\n",
    "We will build our overall Top 250 Chart and will define a function to build charts for a particular genre.\n",
    "\n",
    "Also not giving any genre will find the top movies in general."
   ]
  },
  {
   "cell_type": "code",
   "execution_count": 5,
   "metadata": {},
   "outputs": [],
   "source": [
    "def build_simple_recommender(genre='null', percentile=0.85):\n",
    "    gd = md.copy()\n",
    "    if genre != 'null':\n",
    "        gd = md[md['genres'].apply(lambda x: genre in x)]\n",
    "    vote_count = gd[gd['vote_count'].notnull()]['vote_count'].astype('int')\n",
    "    vote_average = gd[gd['vote_average'].notnull()]['vote_average'].astype('int')\n",
    "    mean_vote = vote_average.mean()\n",
    "    min_vote = vote_count.quantile(percentile)\n",
    "    \n",
    "    # count candidates who have atleast 85% votes\n",
    "    candidate = gd[(gd['vote_count'] > min_vote) & (gd['vote_count'].notnull()) & (gd['vote_average'].notnull())][['title', 'year', 'vote_count', 'vote_average', 'popularity', 'genres']]\n",
    "    candidate['vote_count'] = candidate['vote_count'].astype('int')\n",
    "    candidate['vote_average'] = candidate['vote_average'].astype('int')\n",
    "    \n",
    "    #calculate weighted rank\n",
    "    candidate['weighted_rank'] = candidate.apply(lambda x: (x['vote_count']/(x['vote_count']+min_vote) * x['vote_average']) + (min_vote/(min_vote+x['vote_count']) * mean_vote), axis=1)\n",
    "    candidate = candidate.sort_values('weighted_rank', ascending=False).head(250)\n",
    "    \n",
    "    return candidate"
   ]
  },
  {
   "cell_type": "code",
   "execution_count": 6,
   "metadata": {
    "scrolled": true
   },
   "outputs": [
    {
     "data": {
      "text/html": [
       "<div>\n",
       "<style scoped>\n",
       "    .dataframe tbody tr th:only-of-type {\n",
       "        vertical-align: middle;\n",
       "    }\n",
       "\n",
       "    .dataframe tbody tr th {\n",
       "        vertical-align: top;\n",
       "    }\n",
       "\n",
       "    .dataframe thead th {\n",
       "        text-align: right;\n",
       "    }\n",
       "</style>\n",
       "<table border=\"1\" class=\"dataframe\">\n",
       "  <thead>\n",
       "    <tr style=\"text-align: right;\">\n",
       "      <th></th>\n",
       "      <th>title</th>\n",
       "      <th>year</th>\n",
       "      <th>vote_count</th>\n",
       "      <th>vote_average</th>\n",
       "      <th>popularity</th>\n",
       "      <th>genres</th>\n",
       "      <th>weighted_rank</th>\n",
       "    </tr>\n",
       "  </thead>\n",
       "  <tbody>\n",
       "    <tr>\n",
       "      <th>7323</th>\n",
       "      <td>Inception</td>\n",
       "      <td>2010</td>\n",
       "      <td>19596</td>\n",
       "      <td>8</td>\n",
       "      <td>32.104</td>\n",
       "      <td>[Action, Thriller, Science Fiction, Mystery, A...</td>\n",
       "      <td>7.750096</td>\n",
       "    </tr>\n",
       "    <tr>\n",
       "      <th>6674</th>\n",
       "      <td>The Dark Knight</td>\n",
       "      <td>2008</td>\n",
       "      <td>16765</td>\n",
       "      <td>8</td>\n",
       "      <td>27.137</td>\n",
       "      <td>[Drama, Action, Crime, Thriller]</td>\n",
       "      <td>7.713336</td>\n",
       "    </tr>\n",
       "    <tr>\n",
       "      <th>3632</th>\n",
       "      <td>The Lord of the Rings: The Fellowship of the Ring</td>\n",
       "      <td>2001</td>\n",
       "      <td>12693</td>\n",
       "      <td>8</td>\n",
       "      <td>34.367</td>\n",
       "      <td>[Adventure, Fantasy, Action]</td>\n",
       "      <td>7.636408</td>\n",
       "    </tr>\n",
       "    <tr>\n",
       "      <th>1937</th>\n",
       "      <td>The Matrix</td>\n",
       "      <td>1999</td>\n",
       "      <td>12649</td>\n",
       "      <td>8</td>\n",
       "      <td>35.269</td>\n",
       "      <td>[Action, Science Fiction]</td>\n",
       "      <td>7.635350</td>\n",
       "    </tr>\n",
       "    <tr>\n",
       "      <th>4792</th>\n",
       "      <td>The Lord of the Rings: The Return of the King</td>\n",
       "      <td>2003</td>\n",
       "      <td>11568</td>\n",
       "      <td>8</td>\n",
       "      <td>27.357</td>\n",
       "      <td>[Adventure, Fantasy, Action]</td>\n",
       "      <td>7.607292</td>\n",
       "    </tr>\n",
       "  </tbody>\n",
       "</table>\n",
       "</div>"
      ],
      "text/plain": [
       "                                                  title  year  vote_count  \\\n",
       "7323                                          Inception  2010       19596   \n",
       "6674                                    The Dark Knight  2008       16765   \n",
       "3632  The Lord of the Rings: The Fellowship of the Ring  2001       12693   \n",
       "1937                                         The Matrix  1999       12649   \n",
       "4792      The Lord of the Rings: The Return of the King  2003       11568   \n",
       "\n",
       "      vote_average  popularity  \\\n",
       "7323             8      32.104   \n",
       "6674             8      27.137   \n",
       "3632             8      34.367   \n",
       "1937             8      35.269   \n",
       "4792             8      27.357   \n",
       "\n",
       "                                                 genres  weighted_rank  \n",
       "7323  [Action, Thriller, Science Fiction, Mystery, A...       7.750096  \n",
       "6674                   [Drama, Action, Crime, Thriller]       7.713336  \n",
       "3632                       [Adventure, Fantasy, Action]       7.636408  \n",
       "1937                          [Action, Science Fiction]       7.635350  \n",
       "4792                       [Adventure, Fantasy, Action]       7.607292  "
      ]
     },
     "execution_count": 6,
     "metadata": {},
     "output_type": "execute_result"
    }
   ],
   "source": [
    "build_simple_recommender('Action').head(5)"
   ]
  },
  {
   "cell_type": "markdown",
   "metadata": {},
   "source": [
    "### 2. Content Based Recommender\n",
    "The Simple Recommender we built suffers from severe limitations. It gives same recommendations to everyone, regardless of the user's personal taste. If a person who loves romantic movies and hates action were to look at the Top Chart, he wouldn't be getting the best recommendations.\n",
    "\n",
    "To personalize recommendations, we are going to a model that computes the similarity between movies based on certain metrics and suggest movies that are most similar to a perticular movie that a user liked. We are using the movie metadata to built a Content Based filtering.\n",
    "\n",
    "We have built two Content Based Recommenders based on:\n",
    "* Movie Overviews and Taglines\n",
    "* Movie cast, crew, keywords, Genre"
   ]
  },
  {
   "cell_type": "markdown",
   "metadata": {},
   "source": [
    "#### 2a. Movie Description Recommender"
   ]
  },
  {
   "cell_type": "code",
   "execution_count": 7,
   "metadata": {},
   "outputs": [],
   "source": [
    "def build_description_recommender(title):\n",
    "    nmd = md.copy()\n",
    "    nmd['tagline'] = nmd['tagline'].fillna('')\n",
    "    nmd['overview'] = nmd['overview'].fillna('')\n",
    "    nmd['description'] = nmd['tagline'] + nmd['overview']\n",
    "    \n",
    "    #Build tfidf vector\n",
    "    tfidf = TfidfVectorizer(analyzer='word',ngram_range=(1, 2),min_df=0,stop_words='english')\n",
    "    tfidf_matrix = tfidf.fit_transform(nmd['description'])\n",
    "    \n",
    "    #We will be using Cosine Similarity to calculate similarity between two movies.\n",
    "    cosine_sim = linear_kernel(tfidf_matrix, tfidf_matrix)\n",
    "    \n",
    "    # the actual recommendation based on description similarity\n",
    "    indices = pd.Series(nmd.index, index=nmd['title'])\n",
    "    return recommendations(title, nmd, indices, cosine_sim)"
   ]
  },
  {
   "cell_type": "code",
   "execution_count": 8,
   "metadata": {
    "scrolled": false
   },
   "outputs": [
    {
     "data": {
      "text/plain": [
       "7712                      The Dark Knight Rises\n",
       "126                              Batman Forever\n",
       "1058                             Batman Returns\n",
       "7331                 Batman: Under the Red Hood\n",
       "8014    Batman: The Dark Knight Returns, Part 2\n",
       "Name: title, dtype: object"
      ]
     },
     "execution_count": 8,
     "metadata": {},
     "output_type": "execute_result"
    }
   ],
   "source": [
    "build_description_recommender('The Dark Knight').head(5)"
   ]
  },
  {
   "cell_type": "markdown",
   "metadata": {},
   "source": [
    "We see that for 'The Dark Knight' our model is able to find all Batman films. But it is not of much use to the people as it does not take into consideration the important features like cast, crew, director, genre, which determine the rating of the movie. Our model also does not care for the rating each movie has got. It recommends based solely on how similar the descriptions of the movie are."
   ]
  },
  {
   "cell_type": "markdown",
   "metadata": {},
   "source": [
    "#### 2b. Movie Metadata Recommender"
   ]
  },
  {
   "cell_type": "code",
   "execution_count": 9,
   "metadata": {},
   "outputs": [],
   "source": [
    "# Pre-processing\n",
    "credits = pd.read_csv('data/credits.csv')\n",
    "cmd = md.copy()\n",
    "credits['id'] = credits['id'].astype('int')\n",
    "cmd['id'] = cmd['id'].astype('int')\n",
    "# Merge cast, crew data to our moviedata\n",
    "cmd = md.merge(credits, on='id')\n",
    "cmd['cast'] = cmd['cast'].apply(literal_eval)\n",
    "cmd['crew'] = cmd['crew'].apply(literal_eval)\n",
    "cmd['cast_size'] = cmd['cast'].apply(lambda x: len(x))\n",
    "cmd['crew_size'] = cmd['crew'].apply(lambda x: len(x))"
   ]
  },
  {
   "cell_type": "markdown",
   "metadata": {},
   "source": [
    "We now have our cast, crew, genres and credits, all in one dataframe.\n",
    "\n",
    "* Crew: From the crew, we will only pick the director as our feature since the others don't contribute that much to the feel of the movie.\n",
    "\n",
    "* Cast: Choosing Cast is a little more tricky. Lesser known actors and minor roles do not really affect people's opinion of a movie. Therefore, we must only select the major characters and their respective actors. Arbitrarily we will choose the top 4 actors that appear in the credits list."
   ]
  },
  {
   "cell_type": "code",
   "execution_count": 10,
   "metadata": {},
   "outputs": [],
   "source": [
    "def director(crew):\n",
    "    for i in crew:\n",
    "        if i['job'] == 'Director':\n",
    "            return i['name']\n",
    "    return np.nan"
   ]
  },
  {
   "cell_type": "code",
   "execution_count": 11,
   "metadata": {},
   "outputs": [],
   "source": [
    "cmd['director'] = cmd['crew'].apply(director)\n",
    "cmd = cmd.drop(['crew'], axis=1)\n",
    "cmd['cast'] = cmd['cast'].apply(lambda x: [i['name'] for i in x] if isinstance(x, list) else [])\n",
    "cmd['cast'] = cmd['cast'].apply(lambda x: x[:4] if len(x) >= 4 else x)"
   ]
  },
  {
   "cell_type": "code",
   "execution_count": 12,
   "metadata": {},
   "outputs": [],
   "source": [
    "# We are going to duplicate Director 3 times to give it more weight\n",
    "# The final Count matrix will be constructed of genres, director and main actors.\n",
    "# Need to get strip spaces and covert to lowercase for all actors and directors\n",
    "# cause it will affect our count matrix\n",
    "cmd['cast'] = cmd['cast'].apply(lambda x: [str.lower(i.replace(\" \", \"\")) for i in x])\n",
    "cmd['director'] = cmd['director'].apply(lambda x: str.lower(x.replace(\" \", \"\") if isinstance(x, str) else \"\"))\n",
    "cmd['director'] = cmd['director'].apply(lambda x: [x,x,x])"
   ]
  },
  {
   "cell_type": "code",
   "execution_count": 13,
   "metadata": {},
   "outputs": [],
   "source": [
    "def build_metadata_recommender(title):\n",
    "    # Combine all the final data\n",
    "    cmd['final_data'] = cmd['director'] + cmd['cast'] + cmd['genres']\n",
    "    cmd['final_data'] = cmd['final_data'].apply(lambda x: ' '.join(x))\n",
    "    \n",
    "    # Build a count vector out of it\n",
    "    count_vector = CountVectorizer(analyzer='word', ngram_range=(1,2), min_df=0, stop_words='english')\n",
    "    count_matrix = count_vector.fit_transform(cmd['final_data'])\n",
    "\n",
    "    #We will be using Cosine Similarity to calculate similarity between two movies.\n",
    "    cosine_sim = cosine_similarity(count_matrix, count_matrix)\n",
    "    \n",
    "    # the actual recommendation based on metadata similarity\n",
    "    indices = pd.Series(cmd.index, index=cmd['title'])\n",
    "    return indices, cosine_sim, improved_recommendations(title, cmd, indices, cosine_sim)"
   ]
  },
  {
   "cell_type": "code",
   "execution_count": 14,
   "metadata": {},
   "outputs": [
    {
     "data": {
      "text/html": [
       "<div>\n",
       "<style scoped>\n",
       "    .dataframe tbody tr th:only-of-type {\n",
       "        vertical-align: middle;\n",
       "    }\n",
       "\n",
       "    .dataframe tbody tr th {\n",
       "        vertical-align: top;\n",
       "    }\n",
       "\n",
       "    .dataframe thead th {\n",
       "        text-align: right;\n",
       "    }\n",
       "</style>\n",
       "<table border=\"1\" class=\"dataframe\">\n",
       "  <thead>\n",
       "    <tr style=\"text-align: right;\">\n",
       "      <th></th>\n",
       "      <th>title</th>\n",
       "      <th>year</th>\n",
       "      <th>vote_count</th>\n",
       "      <th>vote_average</th>\n",
       "      <th>weighted_rank</th>\n",
       "    </tr>\n",
       "  </thead>\n",
       "  <tbody>\n",
       "    <tr>\n",
       "      <th>7334</th>\n",
       "      <td>Inception</td>\n",
       "      <td>2010</td>\n",
       "      <td>19596</td>\n",
       "      <td>8</td>\n",
       "      <td>7.783872</td>\n",
       "    </tr>\n",
       "    <tr>\n",
       "      <th>8315</th>\n",
       "      <td>Interstellar</td>\n",
       "      <td>2014</td>\n",
       "      <td>16162</td>\n",
       "      <td>8</td>\n",
       "      <td>7.746571</td>\n",
       "    </tr>\n",
       "    <tr>\n",
       "      <th>6310</th>\n",
       "      <td>The Prestige</td>\n",
       "      <td>2006</td>\n",
       "      <td>6999</td>\n",
       "      <td>8</td>\n",
       "      <td>7.530238</td>\n",
       "    </tr>\n",
       "    <tr>\n",
       "      <th>3137</th>\n",
       "      <td>Memento</td>\n",
       "      <td>2000</td>\n",
       "      <td>6727</td>\n",
       "      <td>8</td>\n",
       "      <td>7.518025</td>\n",
       "    </tr>\n",
       "    <tr>\n",
       "      <th>7723</th>\n",
       "      <td>The Dark Knight Rises</td>\n",
       "      <td>2012</td>\n",
       "      <td>12464</td>\n",
       "      <td>7</td>\n",
       "      <td>6.919297</td>\n",
       "    </tr>\n",
       "  </tbody>\n",
       "</table>\n",
       "</div>"
      ],
      "text/plain": [
       "                      title  year  vote_count  vote_average  weighted_rank\n",
       "7334              Inception  2010       19596             8       7.783872\n",
       "8315           Interstellar  2014       16162             8       7.746571\n",
       "6310           The Prestige  2006        6999             8       7.530238\n",
       "3137                Memento  2000        6727             8       7.518025\n",
       "7723  The Dark Knight Rises  2012       12464             7       6.919297"
      ]
     },
     "execution_count": 14,
     "metadata": {},
     "output_type": "execute_result"
    }
   ],
   "source": [
    "indices, cosine_sim, recs = build_metadata_recommender('The Dark Knight')\n",
    "recs.head(5)"
   ]
  },
  {
   "cell_type": "markdown",
   "metadata": {},
   "source": [
    "### 3. Collaborative Filtering"
   ]
  },
  {
   "cell_type": "code",
   "execution_count": 2,
   "metadata": {},
   "outputs": [],
   "source": [
    "reader = Reader()\n",
    "ratings = pd.read_csv('data/ratings.csv')[['userId', 'movieId', 'rating']]\n",
    "ratings = ratings.sample(frac=1)"
   ]
  },
  {
   "cell_type": "code",
   "execution_count": 3,
   "metadata": {},
   "outputs": [],
   "source": [
    "def calculate_density_vs_rmse():\n",
    "    baseline_rmse = []\n",
    "    svd_rmse = []\n",
    "    knn_rmse = []\n",
    "    nmf_rmse = []\n",
    "    densities = []\n",
    "    for i in np.linspace(0.1,1,10):\n",
    "        # toggle density\n",
    "        threshold = int(i * len(ratings))\n",
    "        new_ratings = ratings[:threshold]\n",
    "        density = new_ratings.shape[0] / (610 * 9742)\n",
    "        densities.append(density * 100)\n",
    "        data = Dataset.load_from_df(new_ratings, reader)\n",
    "        \n",
    "        # Cross validation to calculate RMSE for Baseline\n",
    "        baseline = BaselineOnly()\n",
    "        cv_baseline = cross_validate(baseline, data, measures=['RMSE'], cv=5)\n",
    "        baseline_rmse.append(np.sum(cv_baseline['test_rmse'])/cv_baseline['test_rmse'].size)\n",
    "        \n",
    "        # Cross validation to calculate RMSE for SVD\n",
    "        svd = SVD()\n",
    "        cv_svd = cross_validate(svd, data, measures=['RMSE'], cv=5)\n",
    "        svd_rmse.append(np.sum(cv_svd['test_rmse'])/cv_svd['test_rmse'].size)\n",
    "        \n",
    "        # Cross validation to calculate RMSE for KNN-baseline\n",
    "        knn = KNNBaseline()\n",
    "        cv_knn = cross_validate(knn, data, measures=['RMSE'], cv=5)\n",
    "        knn_rmse.append(np.sum(cv_knn['test_rmse'])/cv_knn['test_rmse'].size)\n",
    "        \n",
    "        # Cross validation to calculate RMSE for NMF\n",
    "        nmf = NMF(biased=True)\n",
    "        cv_nmf = cross_validate(nmf, data, measures=['RMSE'], cv=5)\n",
    "        nmf_rmse.append(np.sum(cv_nmf['test_rmse'])/cv_nmf['test_rmse'].size)\n",
    "        \n",
    "    return densities, baseline_rmse, svd_rmse, knn_rmse, nmf_rmse       "
   ]
  },
  {
   "cell_type": "code",
   "execution_count": 4,
   "metadata": {},
   "outputs": [
    {
     "name": "stdout",
     "output_type": "stream",
     "text": [
      "Estimating biases using als...\n",
      "Estimating biases using als...\n",
      "Estimating biases using als...\n",
      "Estimating biases using als...\n",
      "Estimating biases using als...\n",
      "Estimating biases using als...\n",
      "Computing the msd similarity matrix...\n",
      "Done computing similarity matrix.\n",
      "Estimating biases using als...\n",
      "Computing the msd similarity matrix...\n",
      "Done computing similarity matrix.\n",
      "Estimating biases using als...\n",
      "Computing the msd similarity matrix...\n",
      "Done computing similarity matrix.\n",
      "Estimating biases using als...\n",
      "Computing the msd similarity matrix...\n",
      "Done computing similarity matrix.\n",
      "Estimating biases using als...\n",
      "Computing the msd similarity matrix...\n",
      "Done computing similarity matrix.\n",
      "Estimating biases using als...\n",
      "Estimating biases using als...\n",
      "Estimating biases using als...\n",
      "Estimating biases using als...\n",
      "Estimating biases using als...\n",
      "Estimating biases using als...\n",
      "Computing the msd similarity matrix...\n",
      "Done computing similarity matrix.\n",
      "Estimating biases using als...\n",
      "Computing the msd similarity matrix...\n",
      "Done computing similarity matrix.\n",
      "Estimating biases using als...\n",
      "Computing the msd similarity matrix...\n",
      "Done computing similarity matrix.\n",
      "Estimating biases using als...\n",
      "Computing the msd similarity matrix...\n",
      "Done computing similarity matrix.\n",
      "Estimating biases using als...\n",
      "Computing the msd similarity matrix...\n",
      "Done computing similarity matrix.\n",
      "Estimating biases using als...\n",
      "Estimating biases using als...\n",
      "Estimating biases using als...\n",
      "Estimating biases using als...\n",
      "Estimating biases using als...\n",
      "Estimating biases using als...\n",
      "Computing the msd similarity matrix...\n",
      "Done computing similarity matrix.\n",
      "Estimating biases using als...\n",
      "Computing the msd similarity matrix...\n",
      "Done computing similarity matrix.\n",
      "Estimating biases using als...\n",
      "Computing the msd similarity matrix...\n",
      "Done computing similarity matrix.\n",
      "Estimating biases using als...\n",
      "Computing the msd similarity matrix...\n",
      "Done computing similarity matrix.\n",
      "Estimating biases using als...\n",
      "Computing the msd similarity matrix...\n",
      "Done computing similarity matrix.\n",
      "Estimating biases using als...\n",
      "Estimating biases using als...\n",
      "Estimating biases using als...\n",
      "Estimating biases using als...\n",
      "Estimating biases using als...\n",
      "Estimating biases using als...\n",
      "Computing the msd similarity matrix...\n",
      "Done computing similarity matrix.\n",
      "Estimating biases using als...\n",
      "Computing the msd similarity matrix...\n",
      "Done computing similarity matrix.\n",
      "Estimating biases using als...\n",
      "Computing the msd similarity matrix...\n",
      "Done computing similarity matrix.\n",
      "Estimating biases using als...\n",
      "Computing the msd similarity matrix...\n",
      "Done computing similarity matrix.\n",
      "Estimating biases using als...\n",
      "Computing the msd similarity matrix...\n",
      "Done computing similarity matrix.\n",
      "Estimating biases using als...\n",
      "Estimating biases using als...\n",
      "Estimating biases using als...\n",
      "Estimating biases using als...\n",
      "Estimating biases using als...\n",
      "Estimating biases using als...\n",
      "Computing the msd similarity matrix...\n",
      "Done computing similarity matrix.\n",
      "Estimating biases using als...\n",
      "Computing the msd similarity matrix...\n",
      "Done computing similarity matrix.\n",
      "Estimating biases using als...\n",
      "Computing the msd similarity matrix...\n",
      "Done computing similarity matrix.\n",
      "Estimating biases using als...\n",
      "Computing the msd similarity matrix...\n",
      "Done computing similarity matrix.\n",
      "Estimating biases using als...\n",
      "Computing the msd similarity matrix...\n",
      "Done computing similarity matrix.\n",
      "Estimating biases using als...\n",
      "Estimating biases using als...\n",
      "Estimating biases using als...\n",
      "Estimating biases using als...\n",
      "Estimating biases using als...\n",
      "Estimating biases using als...\n",
      "Computing the msd similarity matrix...\n",
      "Done computing similarity matrix.\n",
      "Estimating biases using als...\n",
      "Computing the msd similarity matrix...\n",
      "Done computing similarity matrix.\n",
      "Estimating biases using als...\n",
      "Computing the msd similarity matrix...\n",
      "Done computing similarity matrix.\n",
      "Estimating biases using als...\n",
      "Computing the msd similarity matrix...\n",
      "Done computing similarity matrix.\n",
      "Estimating biases using als...\n",
      "Computing the msd similarity matrix...\n",
      "Done computing similarity matrix.\n",
      "Estimating biases using als...\n",
      "Estimating biases using als...\n",
      "Estimating biases using als...\n",
      "Estimating biases using als...\n",
      "Estimating biases using als...\n",
      "Estimating biases using als...\n",
      "Computing the msd similarity matrix...\n",
      "Done computing similarity matrix.\n",
      "Estimating biases using als...\n",
      "Computing the msd similarity matrix...\n",
      "Done computing similarity matrix.\n",
      "Estimating biases using als...\n",
      "Computing the msd similarity matrix...\n",
      "Done computing similarity matrix.\n",
      "Estimating biases using als...\n",
      "Computing the msd similarity matrix...\n",
      "Done computing similarity matrix.\n",
      "Estimating biases using als...\n",
      "Computing the msd similarity matrix...\n",
      "Done computing similarity matrix.\n",
      "Estimating biases using als...\n",
      "Estimating biases using als...\n",
      "Estimating biases using als...\n",
      "Estimating biases using als...\n",
      "Estimating biases using als...\n",
      "Estimating biases using als...\n",
      "Computing the msd similarity matrix...\n",
      "Done computing similarity matrix.\n",
      "Estimating biases using als...\n",
      "Computing the msd similarity matrix...\n",
      "Done computing similarity matrix.\n",
      "Estimating biases using als...\n",
      "Computing the msd similarity matrix...\n",
      "Done computing similarity matrix.\n",
      "Estimating biases using als...\n",
      "Computing the msd similarity matrix...\n",
      "Done computing similarity matrix.\n",
      "Estimating biases using als...\n",
      "Computing the msd similarity matrix...\n",
      "Done computing similarity matrix.\n",
      "Estimating biases using als...\n",
      "Estimating biases using als...\n",
      "Estimating biases using als...\n",
      "Estimating biases using als...\n",
      "Estimating biases using als...\n",
      "Estimating biases using als...\n",
      "Computing the msd similarity matrix...\n",
      "Done computing similarity matrix.\n",
      "Estimating biases using als...\n",
      "Computing the msd similarity matrix...\n",
      "Done computing similarity matrix.\n",
      "Estimating biases using als...\n",
      "Computing the msd similarity matrix...\n",
      "Done computing similarity matrix.\n",
      "Estimating biases using als...\n",
      "Computing the msd similarity matrix...\n",
      "Done computing similarity matrix.\n",
      "Estimating biases using als...\n",
      "Computing the msd similarity matrix...\n",
      "Done computing similarity matrix.\n",
      "Estimating biases using als...\n",
      "Estimating biases using als...\n",
      "Estimating biases using als...\n",
      "Estimating biases using als...\n",
      "Estimating biases using als...\n",
      "Estimating biases using als...\n",
      "Computing the msd similarity matrix...\n",
      "Done computing similarity matrix.\n",
      "Estimating biases using als...\n",
      "Computing the msd similarity matrix...\n",
      "Done computing similarity matrix.\n",
      "Estimating biases using als...\n",
      "Computing the msd similarity matrix...\n",
      "Done computing similarity matrix.\n",
      "Estimating biases using als...\n",
      "Computing the msd similarity matrix...\n",
      "Done computing similarity matrix.\n",
      "Estimating biases using als...\n",
      "Computing the msd similarity matrix...\n",
      "Done computing similarity matrix.\n",
      "[0.16967263597537785, 0.3393620995453184, 0.5090347355206962, 0.6787241990906367, 0.8484136626605774, 1.0180862986359551, 1.1877757622058958, 1.3574483981812735, 1.5271378617512141, 1.6968273253211548]\n",
      "[0.94265076085627, 0.9213419269096359, 0.904841268232458, 0.8967025893974571, 0.8907115189686478, 0.8868687058636795, 0.8816809504526957, 0.877415497577061, 0.8740150853351805, 0.8722708750407874]\n",
      "[0.9439895398137891, 0.922143761697663, 0.9096841590625122, 0.9010772885496948, 0.8970504618432115, 0.8927694352759776, 0.8879848531903691, 0.8830762755731149, 0.877306585421129, 0.8733251339797526]\n",
      "[1.025410739381785, 0.9796819154109281, 0.9396985816300736, 0.9210692873737747, 0.905044373282154, 0.8970045642728545, 0.890108513488651, 0.8829721336310679, 0.8784011105811894, 0.873907414033064]\n",
      "[1.0103815669225178, 1.2853677621605104, 1.3465184074860708, 1.3698123246006182, 1.5300070022966648, 1.6153530416677988, 1.0320802129960005, 1.180090198112999, 1.2919226000552637, 1.1920130968040261]\n"
     ]
    }
   ],
   "source": [
    "densities, baseline_rmse, svd_rmse, knn_rmse, nmf_rmse = calculate_density_vs_rmse()\n",
    "print(densities)\n",
    "print(baseline_rmse)\n",
    "print(svd_rmse)\n",
    "print(knn_rmse)\n",
    "print(nmf_rmse)"
   ]
  },
  {
   "cell_type": "code",
   "execution_count": 5,
   "metadata": {},
   "outputs": [
    {
     "data": {
      "image/png": "[encoded data removed]",
      "text/plain": [
       "<Figure size 432x288 with 1 Axes>"
      ]
     },
     "metadata": {
      "needs_background": "light"
     },
     "output_type": "display_data"
    }
   ],
   "source": [
    "plt.plot(densities, svd_rmse, 'r', label='SVD')\n",
    "plt.plot(densities, baseline_rmse, 'b', label='Baseline')\n",
    "plt.plot(densities, knn_rmse, 'g', label='KNN')\n",
    "plt.plot(densities, nmf_rmse, 'y', label='NMF')\n",
    "plt.legend(loc='upper right')\n",
    "plt.title(\"CF Methods varying on Density\")\n",
    "plt.xlabel(\"Density %\")\n",
    "plt.ylabel(\"RMSE\")\n",
    "plt.show()"
   ]
  },
  {
   "cell_type": "code",
   "execution_count": null,
   "metadata": {},
   "outputs": [],
   "source": [
    "def calculate_k_vs_rmse():\n",
    "    "
   ]
  },
  {
   "cell_type": "markdown",
   "metadata": {},
   "source": [
    "### 4. Hybrid Model"
   ]
  },
  {
   "cell_type": "markdown",
   "metadata": {},
   "source": [
    "We build a simple hybrid recommender that brings together techniques we have implemented in the content based and collaborative filter based engines. This is how it will work:\n",
    "\n",
    "* Input: User ID and the Title of a Movie\n",
    "* Output: Similar movies sorted on the basis of expected ratings by that particular user."
   ]
  },
  {
   "cell_type": "code",
   "execution_count": 19,
   "metadata": {},
   "outputs": [],
   "source": [
    "def convert_int(x):\n",
    "    try:  \n",
    "        return int(x)\n",
    "    except:\n",
    "        return np.nan"
   ]
  },
  {
   "cell_type": "code",
   "execution_count": 20,
   "metadata": {},
   "outputs": [],
   "source": [
    "id_map = pd.read_csv('data/links.csv')[['movieId','tmdbId']]\n",
    "id_map['tmdbId'] = id_map['tmdbId'].apply(convert_int)\n",
    "id_map.columns = ['movieId', 'id']\n",
    "id_map1 = id_map.merge(md[['title', 'id']], on='id').set_index('title')\n",
    "indices_map = id_map1.set_index('id')"
   ]
  },
  {
   "cell_type": "code",
   "execution_count": 21,
   "metadata": {},
   "outputs": [],
   "source": [
    "def hybrid(userId, title):\n",
    "    i = indices[title]\n",
    "    tmdbId = id_map1.loc[title]['id']\n",
    "    movie_id = id_map1.loc[title]['movieId']\n",
    "    \n",
    "    scores = list(enumerate(cosine_sim[int(i)]))\n",
    "    scores = sorted(scores, key=lambda x: x[1], reverse=True)\n",
    "    scores = scores[1:26]\n",
    "    movie_indices = [i[0] for i in scores]\n",
    "    \n",
    "    movies = cmd.iloc[movie_indices][['title', 'vote_count', 'vote_average', 'year', 'id']]\n",
    "    movies['estimate_rating'] = movies['id'].apply(lambda x: svd.predict(userId, indices_map.loc[x]['movieId']).est)\n",
    "    movies = movies.sort_values('estimate_rating', ascending=False)\n",
    "    return movies.head(10)"
   ]
  },
  {
   "cell_type": "code",
   "execution_count": 22,
   "metadata": {},
   "outputs": [
    {
     "ename": "NameError",
     "evalue": "name 'svd' is not defined",
     "output_type": "error",
     "traceback": [
      "\u001b[0;31m---------------------------------------------------------------------------\u001b[0m",
      "\u001b[0;31mNameError\u001b[0m                                 Traceback (most recent call last)",
      "\u001b[0;32m<ipython-input-22-a8f1819dd863>\u001b[0m in \u001b[0;36m<module>\u001b[0;34m\u001b[0m\n\u001b[0;32m----> 1\u001b[0;31m \u001b[0mhybrid\u001b[0m\u001b[0;34m(\u001b[0m\u001b[0;36m1\u001b[0m\u001b[0;34m,\u001b[0m \u001b[0;34m'Aliens'\u001b[0m\u001b[0;34m)\u001b[0m\u001b[0;34m\u001b[0m\u001b[0m\n\u001b[0m",
      "\u001b[0;32m<ipython-input-21-5bf1157beacb>\u001b[0m in \u001b[0;36mhybrid\u001b[0;34m(userId, title)\u001b[0m\n\u001b[1;32m     10\u001b[0m \u001b[0;34m\u001b[0m\u001b[0m\n\u001b[1;32m     11\u001b[0m     \u001b[0mmovies\u001b[0m \u001b[0;34m=\u001b[0m \u001b[0mcmd\u001b[0m\u001b[0;34m.\u001b[0m\u001b[0miloc\u001b[0m\u001b[0;34m[\u001b[0m\u001b[0mmovie_indices\u001b[0m\u001b[0;34m]\u001b[0m\u001b[0;34m[\u001b[0m\u001b[0;34m[\u001b[0m\u001b[0;34m'title'\u001b[0m\u001b[0;34m,\u001b[0m \u001b[0;34m'vote_count'\u001b[0m\u001b[0;34m,\u001b[0m \u001b[0;34m'vote_average'\u001b[0m\u001b[0;34m,\u001b[0m \u001b[0;34m'year'\u001b[0m\u001b[0;34m,\u001b[0m \u001b[0;34m'id'\u001b[0m\u001b[0;34m]\u001b[0m\u001b[0;34m]\u001b[0m\u001b[0;34m\u001b[0m\u001b[0m\n\u001b[0;32m---> 12\u001b[0;31m     \u001b[0mmovies\u001b[0m\u001b[0;34m[\u001b[0m\u001b[0;34m'estimate_rating'\u001b[0m\u001b[0;34m]\u001b[0m \u001b[0;34m=\u001b[0m \u001b[0mmovies\u001b[0m\u001b[0;34m[\u001b[0m\u001b[0;34m'id'\u001b[0m\u001b[0;34m]\u001b[0m\u001b[0;34m.\u001b[0m\u001b[0mapply\u001b[0m\u001b[0;34m(\u001b[0m\u001b[0;32mlambda\u001b[0m \u001b[0mx\u001b[0m\u001b[0;34m:\u001b[0m \u001b[0msvd\u001b[0m\u001b[0;34m.\u001b[0m\u001b[0mpredict\u001b[0m\u001b[0;34m(\u001b[0m\u001b[0muserId\u001b[0m\u001b[0;34m,\u001b[0m \u001b[0mindices_map\u001b[0m\u001b[0;34m.\u001b[0m\u001b[0mloc\u001b[0m\u001b[0;34m[\u001b[0m\u001b[0mx\u001b[0m\u001b[0;34m]\u001b[0m\u001b[0;34m[\u001b[0m\u001b[0;34m'movieId'\u001b[0m\u001b[0;34m]\u001b[0m\u001b[0;34m)\u001b[0m\u001b[0;34m.\u001b[0m\u001b[0mest\u001b[0m\u001b[0;34m)\u001b[0m\u001b[0;34m\u001b[0m\u001b[0m\n\u001b[0m\u001b[1;32m     13\u001b[0m     \u001b[0mmovies\u001b[0m \u001b[0;34m=\u001b[0m \u001b[0mmovies\u001b[0m\u001b[0;34m.\u001b[0m\u001b[0msort_values\u001b[0m\u001b[0;34m(\u001b[0m\u001b[0;34m'estimate_rating'\u001b[0m\u001b[0;34m,\u001b[0m \u001b[0mascending\u001b[0m\u001b[0;34m=\u001b[0m\u001b[0;32mFalse\u001b[0m\u001b[0;34m)\u001b[0m\u001b[0;34m\u001b[0m\u001b[0m\n\u001b[1;32m     14\u001b[0m     \u001b[0;32mreturn\u001b[0m \u001b[0mmovies\u001b[0m\u001b[0;34m.\u001b[0m\u001b[0mhead\u001b[0m\u001b[0;34m(\u001b[0m\u001b[0;36m10\u001b[0m\u001b[0;34m)\u001b[0m\u001b[0;34m\u001b[0m\u001b[0m\n",
      "\u001b[0;32m~/anaconda/lib/python3.6/site-packages/pandas/core/series.py\u001b[0m in \u001b[0;36mapply\u001b[0;34m(self, func, convert_dtype, args, **kwds)\u001b[0m\n\u001b[1;32m   3192\u001b[0m             \u001b[0;32melse\u001b[0m\u001b[0;34m:\u001b[0m\u001b[0;34m\u001b[0m\u001b[0m\n\u001b[1;32m   3193\u001b[0m                 \u001b[0mvalues\u001b[0m \u001b[0;34m=\u001b[0m \u001b[0mself\u001b[0m\u001b[0;34m.\u001b[0m\u001b[0mastype\u001b[0m\u001b[0;34m(\u001b[0m\u001b[0mobject\u001b[0m\u001b[0;34m)\u001b[0m\u001b[0;34m.\u001b[0m\u001b[0mvalues\u001b[0m\u001b[0;34m\u001b[0m\u001b[0m\n\u001b[0;32m-> 3194\u001b[0;31m                 \u001b[0mmapped\u001b[0m \u001b[0;34m=\u001b[0m \u001b[0mlib\u001b[0m\u001b[0;34m.\u001b[0m\u001b[0mmap_infer\u001b[0m\u001b[0;34m(\u001b[0m\u001b[0mvalues\u001b[0m\u001b[0;34m,\u001b[0m \u001b[0mf\u001b[0m\u001b[0;34m,\u001b[0m \u001b[0mconvert\u001b[0m\u001b[0;34m=\u001b[0m\u001b[0mconvert_dtype\u001b[0m\u001b[0;34m)\u001b[0m\u001b[0;34m\u001b[0m\u001b[0m\n\u001b[0m\u001b[1;32m   3195\u001b[0m \u001b[0;34m\u001b[0m\u001b[0m\n\u001b[1;32m   3196\u001b[0m         \u001b[0;32mif\u001b[0m \u001b[0mlen\u001b[0m\u001b[0;34m(\u001b[0m\u001b[0mmapped\u001b[0m\u001b[0;34m)\u001b[0m \u001b[0;32mand\u001b[0m \u001b[0misinstance\u001b[0m\u001b[0;34m(\u001b[0m\u001b[0mmapped\u001b[0m\u001b[0;34m[\u001b[0m\u001b[0;36m0\u001b[0m\u001b[0;34m]\u001b[0m\u001b[0;34m,\u001b[0m \u001b[0mSeries\u001b[0m\u001b[0;34m)\u001b[0m\u001b[0;34m:\u001b[0m\u001b[0;34m\u001b[0m\u001b[0m\n",
      "\u001b[0;32mpandas/_libs/src/inference.pyx\u001b[0m in \u001b[0;36mpandas._libs.lib.map_infer\u001b[0;34m()\u001b[0m\n",
      "\u001b[0;32m<ipython-input-21-5bf1157beacb>\u001b[0m in \u001b[0;36m<lambda>\u001b[0;34m(x)\u001b[0m\n\u001b[1;32m     10\u001b[0m \u001b[0;34m\u001b[0m\u001b[0m\n\u001b[1;32m     11\u001b[0m     \u001b[0mmovies\u001b[0m \u001b[0;34m=\u001b[0m \u001b[0mcmd\u001b[0m\u001b[0;34m.\u001b[0m\u001b[0miloc\u001b[0m\u001b[0;34m[\u001b[0m\u001b[0mmovie_indices\u001b[0m\u001b[0;34m]\u001b[0m\u001b[0;34m[\u001b[0m\u001b[0;34m[\u001b[0m\u001b[0;34m'title'\u001b[0m\u001b[0;34m,\u001b[0m \u001b[0;34m'vote_count'\u001b[0m\u001b[0;34m,\u001b[0m \u001b[0;34m'vote_average'\u001b[0m\u001b[0;34m,\u001b[0m \u001b[0;34m'year'\u001b[0m\u001b[0;34m,\u001b[0m \u001b[0;34m'id'\u001b[0m\u001b[0;34m]\u001b[0m\u001b[0;34m]\u001b[0m\u001b[0;34m\u001b[0m\u001b[0m\n\u001b[0;32m---> 12\u001b[0;31m     \u001b[0mmovies\u001b[0m\u001b[0;34m[\u001b[0m\u001b[0;34m'estimate_rating'\u001b[0m\u001b[0;34m]\u001b[0m \u001b[0;34m=\u001b[0m \u001b[0mmovies\u001b[0m\u001b[0;34m[\u001b[0m\u001b[0;34m'id'\u001b[0m\u001b[0;34m]\u001b[0m\u001b[0;34m.\u001b[0m\u001b[0mapply\u001b[0m\u001b[0;34m(\u001b[0m\u001b[0;32mlambda\u001b[0m \u001b[0mx\u001b[0m\u001b[0;34m:\u001b[0m \u001b[0msvd\u001b[0m\u001b[0;34m.\u001b[0m\u001b[0mpredict\u001b[0m\u001b[0;34m(\u001b[0m\u001b[0muserId\u001b[0m\u001b[0;34m,\u001b[0m \u001b[0mindices_map\u001b[0m\u001b[0;34m.\u001b[0m\u001b[0mloc\u001b[0m\u001b[0;34m[\u001b[0m\u001b[0mx\u001b[0m\u001b[0;34m]\u001b[0m\u001b[0;34m[\u001b[0m\u001b[0;34m'movieId'\u001b[0m\u001b[0;34m]\u001b[0m\u001b[0;34m)\u001b[0m\u001b[0;34m.\u001b[0m\u001b[0mest\u001b[0m\u001b[0;34m)\u001b[0m\u001b[0;34m\u001b[0m\u001b[0m\n\u001b[0m\u001b[1;32m     13\u001b[0m     \u001b[0mmovies\u001b[0m \u001b[0;34m=\u001b[0m \u001b[0mmovies\u001b[0m\u001b[0;34m.\u001b[0m\u001b[0msort_values\u001b[0m\u001b[0;34m(\u001b[0m\u001b[0;34m'estimate_rating'\u001b[0m\u001b[0;34m,\u001b[0m \u001b[0mascending\u001b[0m\u001b[0;34m=\u001b[0m\u001b[0;32mFalse\u001b[0m\u001b[0;34m)\u001b[0m\u001b[0;34m\u001b[0m\u001b[0m\n\u001b[1;32m     14\u001b[0m     \u001b[0;32mreturn\u001b[0m \u001b[0mmovies\u001b[0m\u001b[0;34m.\u001b[0m\u001b[0mhead\u001b[0m\u001b[0;34m(\u001b[0m\u001b[0;36m10\u001b[0m\u001b[0;34m)\u001b[0m\u001b[0;34m\u001b[0m\u001b[0m\n",
      "\u001b[0;31mNameError\u001b[0m: name 'svd' is not defined"
     ]
    }
   ],
   "source": [
    "hybrid(1, 'Aliens')"
   ]
  },
  {
   "cell_type": "markdown",
   "metadata": {},
   "source": [
    "We see that for our hybrid recommender, we get different recommendations for different users although the movie is the same. Hence, our recommendations are more personalized and tailored towards particular users.\n",
    "\n",
    "\n",
    "* Guy Shani, Asela Gunawardana. Evaluating Recommendation Systems.\n",
    "* https://arxiv.org/pdf/1205.3193.pdf\n",
    "* https://www.microsoft.com/en-us/research/wp-content/uploads/2016/02/EvaluationMetrics.TR_.pdf\n",
    "* J. Lee, M. Sun, G. Lebanon. A Comparative Study of Collaborative Filtering Algorithms, 2012.\n"
   ]
  },
  {
   "cell_type": "markdown",
   "metadata": {},
   "source": [
    "### 5. Evaluation"
   ]
  },
  {
   "cell_type": "code",
   "execution_count": null,
   "metadata": {},
   "outputs": [],
   "source": []
  },
  {
   "cell_type": "code",
   "execution_count": null,
   "metadata": {},
   "outputs": [],
   "source": [
    "user1_ratings = ratings[(ratings['rating'] >= 4) & (ratings['userId'] == 1)]\n",
    "threshold = int(.9 * len(user1_ratings))\n",
    "A = user1_ratings[:threshold]"
   ]
  },
  {
   "cell_type": "code",
   "execution_count": null,
   "metadata": {},
   "outputs": [],
   "source": [
    "merged = id_map.merge(cmd[['title', 'final_data', 'id']], on='id')\n",
    "A.columns = ['userId', 'id', 'rating']\n",
    "merged = A.merge(merged[['title', 'final_data', 'id']], on='id')\n",
    "merged"
   ]
  },
  {
   "cell_type": "code",
   "execution_count": null,
   "metadata": {},
   "outputs": [],
   "source": []
  }
 ],
 "metadata": {
  "kernelspec": {
   "display_name": "Python 3",
   "language": "python",
   "name": "python3"
  },
  "language_info": {
   "codemirror_mode": {
    "name": "ipython",
    "version": 3
   },
   "file_extension": ".py",
   "mimetype": "text/x-python",
   "name": "python",
   "nbconvert_exporter": "python",
   "pygments_lexer": "ipython3",
   "version": "3.6.6"
  }
 },
 "nbformat": 4,
 "nbformat_minor": 2
}
